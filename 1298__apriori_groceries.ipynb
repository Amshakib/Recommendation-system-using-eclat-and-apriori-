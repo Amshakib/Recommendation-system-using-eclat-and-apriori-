{
  "nbformat": 4,
  "nbformat_minor": 0,
  "metadata": {
    "colab": {
      "name": "1298_ apriori_groceries.ipynb",
      "provenance": [],
      "collapsed_sections": []
    },
    "kernelspec": {
      "name": "python3",
      "display_name": "Python 3"
    }
  },
  "cells": [
    {
      "cell_type": "markdown",
      "metadata": {
        "id": "1fziHl7Ar94J"
      },
      "source": [
        "# Apriori"
      ]
    },
    {
      "cell_type": "markdown",
      "metadata": {
        "id": "eiNwni1xsEgT"
      },
      "source": [
        "## Importing the libraries"
      ]
    },
    {
      "cell_type": "code",
      "metadata": {
        "id": "DUF77Qr1vqyM",
        "colab": {
          "base_uri": "https://localhost:8080/"
        },
        "outputId": "a4191b76-cebd-4484-98ee-a4e2ce967cb7"
      },
      "source": [
        "!pip install apyori"
      ],
      "execution_count": 1,
      "outputs": [
        {
          "output_type": "stream",
          "name": "stdout",
          "text": [
            "Collecting apyori\n",
            "  Downloading apyori-1.1.2.tar.gz (8.6 kB)\n",
            "Building wheels for collected packages: apyori\n",
            "  Building wheel for apyori (setup.py) ... \u001b[?25l\u001b[?25hdone\n",
            "  Created wheel for apyori: filename=apyori-1.1.2-py3-none-any.whl size=5974 sha256=93fe86767af25a61a738e23ea0eebe85b84167a47e866f36a4f55bb4dc38c764\n",
            "  Stored in directory: /root/.cache/pip/wheels/cb/f6/e1/57973c631d27efd1a2f375bd6a83b2a616c4021f24aab84080\n",
            "Successfully built apyori\n",
            "Installing collected packages: apyori\n",
            "Successfully installed apyori-1.1.2\n"
          ]
        }
      ]
    },
    {
      "cell_type": "code",
      "metadata": {
        "colab": {
          "base_uri": "https://localhost:8080/"
        },
        "id": "fnkhI2ubdzuD",
        "outputId": "fc10330a-3dcc-4699-bd10-856ee0e34bbd"
      },
      "source": [
        "from google.colab import drive\n",
        "drive.mount('/content/drive')"
      ],
      "execution_count": 2,
      "outputs": [
        {
          "output_type": "stream",
          "name": "stdout",
          "text": [
            "Mounted at /content/drive\n"
          ]
        }
      ]
    },
    {
      "cell_type": "code",
      "metadata": {
        "id": "UJfitBClsJlT"
      },
      "source": [
        "import numpy as np\n",
        "import matplotlib.pyplot as plt\n",
        "import pandas as pd"
      ],
      "execution_count": 3,
      "outputs": []
    },
    {
      "cell_type": "markdown",
      "metadata": {
        "id": "vLt-7XUKsXBd"
      },
      "source": [
        "## Data Preprocessing"
      ]
    },
    {
      "cell_type": "code",
      "metadata": {
        "id": "J_A-UFOAsaDf"
      },
      "source": [
        "dataset = pd.read_csv('/content/drive/MyDrive/groceries.csv', header = None)\n",
        "\n",
        "transactions = []\n",
        "for i in range(0, 9835):\n",
        "  transactions.append([str(dataset.values[i,j]) for j in range(0, 32)])\n",
        "  \n"
      ],
      "execution_count": 5,
      "outputs": []
    },
    {
      "cell_type": "code",
      "metadata": {
        "colab": {
          "base_uri": "https://localhost:8080/"
        },
        "id": "Lf3suNFkjQqH",
        "outputId": "de37f612-b67e-4a0a-e38d-db954dac0c5c"
      },
      "source": [
        "print(transactions[0])"
      ],
      "execution_count": 6,
      "outputs": [
        {
          "output_type": "stream",
          "name": "stdout",
          "text": [
            "['citrus fruit', 'semi-finished bread', 'margarine', 'ready soups', 'nan', 'nan', 'nan', 'nan', 'nan', 'nan', 'nan', 'nan', 'nan', 'nan', 'nan', 'nan', 'nan', 'nan', 'nan', 'nan', 'nan', 'nan', 'nan', 'nan', 'nan', 'nan', 'nan', 'nan', 'nan', 'nan', 'nan', 'nan']\n"
          ]
        }
      ]
    },
    {
      "cell_type": "markdown",
      "metadata": {
        "id": "1wYZdBd5sea_"
      },
      "source": [
        "## Training the Apriori model on the dataset"
      ]
    },
    {
      "cell_type": "code",
      "metadata": {
        "id": "YzIk4vXZsj5i"
      },
      "source": [
        "from apyori import apriori\n",
        "rules = apriori(transactions = transactions, min_support = 0.003, min_confidence = 0.2, min_lift = 3, min_length = 2, max_length = 2)\n"
      ],
      "execution_count": 7,
      "outputs": []
    },
    {
      "cell_type": "markdown",
      "metadata": {
        "id": "b176YNwWspiO"
      },
      "source": [
        "## Visualising the results"
      ]
    },
    {
      "cell_type": "code",
      "metadata": {
        "id": "ODzcFxdMk1TC"
      },
      "source": [
        ""
      ],
      "execution_count": null,
      "outputs": []
    },
    {
      "cell_type": "markdown",
      "metadata": {
        "id": "iO6bF_dImT-E"
      },
      "source": [
        "### Displaying the first results coming directly from the output of the apriori function"
      ]
    },
    {
      "cell_type": "code",
      "metadata": {
        "id": "kvF-sLc6ifhd"
      },
      "source": [
        "results = list(rules)"
      ],
      "execution_count": 8,
      "outputs": []
    },
    {
      "cell_type": "code",
      "metadata": {
        "id": "eAD8Co4_l9IE",
        "colab": {
          "base_uri": "https://localhost:8080/"
        },
        "outputId": "7542c4d6-b964-4731-f34c-507d128d6aaa"
      },
      "source": [
        "results"
      ],
      "execution_count": 9,
      "outputs": [
        {
          "output_type": "execute_result",
          "data": {
            "text/plain": [
              "[RelationRecord(items=frozenset({'Instant food products', 'hamburger meat'}), support=0.003050330452465684, ordered_statistics=[OrderedStatistic(items_base=frozenset({'Instant food products'}), items_add=frozenset({'hamburger meat'}), confidence=0.379746835443038, lift=11.42143769597027)]),\n",
              " RelationRecord(items=frozenset({'whipped/sour cream', 'baking powder'}), support=0.004575495678698526, ordered_statistics=[OrderedStatistic(items_base=frozenset({'baking powder'}), items_add=frozenset({'whipped/sour cream'}), confidence=0.25862068965517243, lift=3.607850330154072)]),\n",
              " RelationRecord(items=frozenset({'root vegetables', 'beef'}), support=0.017386883579054397, ordered_statistics=[OrderedStatistic(items_base=frozenset({'beef'}), items_add=frozenset({'root vegetables'}), confidence=0.3313953488372093, lift=3.0403668431100312)]),\n",
              " RelationRecord(items=frozenset({'whipped/sour cream', 'berries'}), support=0.009049313675648195, ordered_statistics=[OrderedStatistic(items_base=frozenset({'berries'}), items_add=frozenset({'whipped/sour cream'}), confidence=0.27217125382262997, lift=3.796885505454703)]),\n",
              " RelationRecord(items=frozenset({'bottled beer', 'liquor'}), support=0.004677173360447382, ordered_statistics=[OrderedStatistic(items_base=frozenset({'liquor'}), items_add=frozenset({'bottled beer'}), confidence=0.4220183486238532, lift=5.240594013529793)]),\n",
              " RelationRecord(items=frozenset({'bottled beer', 'red/blush wine'}), support=0.004880528723945094, ordered_statistics=[OrderedStatistic(items_base=frozenset({'red/blush wine'}), items_add=frozenset({'bottled beer'}), confidence=0.253968253968254, lift=3.1537598204264876)]),\n",
              " RelationRecord(items=frozenset({'flour', 'margarine'}), support=0.0037620742247076767, ordered_statistics=[OrderedStatistic(items_base=frozenset({'flour'}), items_add=frozenset({'margarine'}), confidence=0.21637426900584797, lift=3.6945155133203382)]),\n",
              " RelationRecord(items=frozenset({'sugar', 'flour'}), support=0.00498220640569395, ordered_statistics=[OrderedStatistic(items_base=frozenset({'flour'}), items_add=frozenset({'sugar'}), confidence=0.28654970760233917, lift=8.46311223504206)]),\n",
              " RelationRecord(items=frozenset({'flour', 'whipped/sour cream'}), support=0.004067107269954245, ordered_statistics=[OrderedStatistic(items_base=frozenset({'flour'}), items_add=frozenset({'whipped/sour cream'}), confidence=0.23391812865497078, lift=3.263240844427855)]),\n",
              " RelationRecord(items=frozenset({'root vegetables', 'herbs'}), support=0.007015760040671073, ordered_statistics=[OrderedStatistic(items_base=frozenset({'herbs'}), items_add=frozenset({'root vegetables'}), confidence=0.43124999999999997, lift=3.956477378731343)]),\n",
              " RelationRecord(items=frozenset({'white bread', 'processed cheese'}), support=0.004168784951703101, ordered_statistics=[OrderedStatistic(items_base=frozenset({'processed cheese'}), items_add=frozenset({'white bread'}), confidence=0.25153374233128833, lift=5.975445303932901)]),\n",
              " RelationRecord(items=frozenset({'root vegetables', 'rice'}), support=0.00315200813421454, ordered_statistics=[OrderedStatistic(items_base=frozenset({'rice'}), items_add=frozenset({'root vegetables'}), confidence=0.4133333333333334, lift=3.792101990049752)]),\n",
              " RelationRecord(items=frozenset({'sausage', 'sliced cheese'}), support=0.007015760040671073, ordered_statistics=[OrderedStatistic(items_base=frozenset({'sliced cheese'}), items_add=frozenset({'sausage'}), confidence=0.2863070539419087, lift=3.047434930215013)])]"
            ]
          },
          "metadata": {},
          "execution_count": 9
        }
      ]
    },
    {
      "cell_type": "markdown",
      "metadata": {
        "id": "MFkQP-fcjDBC"
      },
      "source": [
        "### Putting the results well organised into a Pandas DataFrame"
      ]
    },
    {
      "cell_type": "code",
      "metadata": {
        "id": "gyq7Poi0mMUe"
      },
      "source": [
        "def inspect(results):\n",
        "    lhs         = [tuple(result[2][0][0])[0] for result in results]\n",
        "    rhs         = [tuple(result[2][0][1])[0] for result in results]\n",
        "    supports    = [result[1] for result in results]\n",
        "    confidences = [result[2][0][2] for result in results]\n",
        "    lifts       = [result[2][0][3] for result in results]\n",
        "    return list(zip(lhs, rhs, supports, confidences, lifts))\n",
        "resultsinDataFrame = pd.DataFrame(inspect(results), columns = ['Left Hand Side', 'Right Hand Side', 'Support', 'Confidence', 'Lift'])"
      ],
      "execution_count": 10,
      "outputs": []
    },
    {
      "cell_type": "markdown",
      "metadata": {
        "id": "Pfn-G1eAjjLz"
      },
      "source": [
        "### Displaying the results non sorted"
      ]
    },
    {
      "cell_type": "code",
      "metadata": {
        "id": "CmDCcs_6ip9V",
        "colab": {
          "base_uri": "https://localhost:8080/",
          "height": 450
        },
        "outputId": "eb6ec6ba-5530-47b8-a333-df7c64b0e488"
      },
      "source": [
        "resultsinDataFrame"
      ],
      "execution_count": 11,
      "outputs": [
        {
          "output_type": "execute_result",
          "data": {
            "text/html": [
              "<div>\n",
              "<style scoped>\n",
              "    .dataframe tbody tr th:only-of-type {\n",
              "        vertical-align: middle;\n",
              "    }\n",
              "\n",
              "    .dataframe tbody tr th {\n",
              "        vertical-align: top;\n",
              "    }\n",
              "\n",
              "    .dataframe thead th {\n",
              "        text-align: right;\n",
              "    }\n",
              "</style>\n",
              "<table border=\"1\" class=\"dataframe\">\n",
              "  <thead>\n",
              "    <tr style=\"text-align: right;\">\n",
              "      <th></th>\n",
              "      <th>Left Hand Side</th>\n",
              "      <th>Right Hand Side</th>\n",
              "      <th>Support</th>\n",
              "      <th>Confidence</th>\n",
              "      <th>Lift</th>\n",
              "    </tr>\n",
              "  </thead>\n",
              "  <tbody>\n",
              "    <tr>\n",
              "      <th>0</th>\n",
              "      <td>Instant food products</td>\n",
              "      <td>hamburger meat</td>\n",
              "      <td>0.003050</td>\n",
              "      <td>0.379747</td>\n",
              "      <td>11.421438</td>\n",
              "    </tr>\n",
              "    <tr>\n",
              "      <th>1</th>\n",
              "      <td>baking powder</td>\n",
              "      <td>whipped/sour cream</td>\n",
              "      <td>0.004575</td>\n",
              "      <td>0.258621</td>\n",
              "      <td>3.607850</td>\n",
              "    </tr>\n",
              "    <tr>\n",
              "      <th>2</th>\n",
              "      <td>beef</td>\n",
              "      <td>root vegetables</td>\n",
              "      <td>0.017387</td>\n",
              "      <td>0.331395</td>\n",
              "      <td>3.040367</td>\n",
              "    </tr>\n",
              "    <tr>\n",
              "      <th>3</th>\n",
              "      <td>berries</td>\n",
              "      <td>whipped/sour cream</td>\n",
              "      <td>0.009049</td>\n",
              "      <td>0.272171</td>\n",
              "      <td>3.796886</td>\n",
              "    </tr>\n",
              "    <tr>\n",
              "      <th>4</th>\n",
              "      <td>liquor</td>\n",
              "      <td>bottled beer</td>\n",
              "      <td>0.004677</td>\n",
              "      <td>0.422018</td>\n",
              "      <td>5.240594</td>\n",
              "    </tr>\n",
              "    <tr>\n",
              "      <th>5</th>\n",
              "      <td>red/blush wine</td>\n",
              "      <td>bottled beer</td>\n",
              "      <td>0.004881</td>\n",
              "      <td>0.253968</td>\n",
              "      <td>3.153760</td>\n",
              "    </tr>\n",
              "    <tr>\n",
              "      <th>6</th>\n",
              "      <td>flour</td>\n",
              "      <td>margarine</td>\n",
              "      <td>0.003762</td>\n",
              "      <td>0.216374</td>\n",
              "      <td>3.694516</td>\n",
              "    </tr>\n",
              "    <tr>\n",
              "      <th>7</th>\n",
              "      <td>flour</td>\n",
              "      <td>sugar</td>\n",
              "      <td>0.004982</td>\n",
              "      <td>0.286550</td>\n",
              "      <td>8.463112</td>\n",
              "    </tr>\n",
              "    <tr>\n",
              "      <th>8</th>\n",
              "      <td>flour</td>\n",
              "      <td>whipped/sour cream</td>\n",
              "      <td>0.004067</td>\n",
              "      <td>0.233918</td>\n",
              "      <td>3.263241</td>\n",
              "    </tr>\n",
              "    <tr>\n",
              "      <th>9</th>\n",
              "      <td>herbs</td>\n",
              "      <td>root vegetables</td>\n",
              "      <td>0.007016</td>\n",
              "      <td>0.431250</td>\n",
              "      <td>3.956477</td>\n",
              "    </tr>\n",
              "    <tr>\n",
              "      <th>10</th>\n",
              "      <td>processed cheese</td>\n",
              "      <td>white bread</td>\n",
              "      <td>0.004169</td>\n",
              "      <td>0.251534</td>\n",
              "      <td>5.975445</td>\n",
              "    </tr>\n",
              "    <tr>\n",
              "      <th>11</th>\n",
              "      <td>rice</td>\n",
              "      <td>root vegetables</td>\n",
              "      <td>0.003152</td>\n",
              "      <td>0.413333</td>\n",
              "      <td>3.792102</td>\n",
              "    </tr>\n",
              "    <tr>\n",
              "      <th>12</th>\n",
              "      <td>sliced cheese</td>\n",
              "      <td>sausage</td>\n",
              "      <td>0.007016</td>\n",
              "      <td>0.286307</td>\n",
              "      <td>3.047435</td>\n",
              "    </tr>\n",
              "  </tbody>\n",
              "</table>\n",
              "</div>"
            ],
            "text/plain": [
              "           Left Hand Side     Right Hand Side   Support  Confidence       Lift\n",
              "0   Instant food products      hamburger meat  0.003050    0.379747  11.421438\n",
              "1           baking powder  whipped/sour cream  0.004575    0.258621   3.607850\n",
              "2                    beef     root vegetables  0.017387    0.331395   3.040367\n",
              "3                 berries  whipped/sour cream  0.009049    0.272171   3.796886\n",
              "4                  liquor        bottled beer  0.004677    0.422018   5.240594\n",
              "5          red/blush wine        bottled beer  0.004881    0.253968   3.153760\n",
              "6                   flour           margarine  0.003762    0.216374   3.694516\n",
              "7                   flour               sugar  0.004982    0.286550   8.463112\n",
              "8                   flour  whipped/sour cream  0.004067    0.233918   3.263241\n",
              "9                   herbs     root vegetables  0.007016    0.431250   3.956477\n",
              "10       processed cheese         white bread  0.004169    0.251534   5.975445\n",
              "11                   rice     root vegetables  0.003152    0.413333   3.792102\n",
              "12          sliced cheese             sausage  0.007016    0.286307   3.047435"
            ]
          },
          "metadata": {},
          "execution_count": 11
        }
      ]
    },
    {
      "cell_type": "markdown",
      "metadata": {
        "id": "IjrrlYW4jpTR"
      },
      "source": [
        "### Displaying the results sorted by descending lifts"
      ]
    },
    {
      "cell_type": "code",
      "metadata": {
        "id": "nI7DJXng-nxQ",
        "colab": {
          "base_uri": "https://localhost:8080/",
          "height": 357
        },
        "outputId": "9e40aef7-9e5a-4edb-ef1f-6e4fbfadfffa"
      },
      "source": [
        "resultsinDataFrame.nlargest(n = 10, columns = 'Lift')"
      ],
      "execution_count": 12,
      "outputs": [
        {
          "output_type": "execute_result",
          "data": {
            "text/html": [
              "<div>\n",
              "<style scoped>\n",
              "    .dataframe tbody tr th:only-of-type {\n",
              "        vertical-align: middle;\n",
              "    }\n",
              "\n",
              "    .dataframe tbody tr th {\n",
              "        vertical-align: top;\n",
              "    }\n",
              "\n",
              "    .dataframe thead th {\n",
              "        text-align: right;\n",
              "    }\n",
              "</style>\n",
              "<table border=\"1\" class=\"dataframe\">\n",
              "  <thead>\n",
              "    <tr style=\"text-align: right;\">\n",
              "      <th></th>\n",
              "      <th>Left Hand Side</th>\n",
              "      <th>Right Hand Side</th>\n",
              "      <th>Support</th>\n",
              "      <th>Confidence</th>\n",
              "      <th>Lift</th>\n",
              "    </tr>\n",
              "  </thead>\n",
              "  <tbody>\n",
              "    <tr>\n",
              "      <th>0</th>\n",
              "      <td>Instant food products</td>\n",
              "      <td>hamburger meat</td>\n",
              "      <td>0.003050</td>\n",
              "      <td>0.379747</td>\n",
              "      <td>11.421438</td>\n",
              "    </tr>\n",
              "    <tr>\n",
              "      <th>7</th>\n",
              "      <td>flour</td>\n",
              "      <td>sugar</td>\n",
              "      <td>0.004982</td>\n",
              "      <td>0.286550</td>\n",
              "      <td>8.463112</td>\n",
              "    </tr>\n",
              "    <tr>\n",
              "      <th>10</th>\n",
              "      <td>processed cheese</td>\n",
              "      <td>white bread</td>\n",
              "      <td>0.004169</td>\n",
              "      <td>0.251534</td>\n",
              "      <td>5.975445</td>\n",
              "    </tr>\n",
              "    <tr>\n",
              "      <th>4</th>\n",
              "      <td>liquor</td>\n",
              "      <td>bottled beer</td>\n",
              "      <td>0.004677</td>\n",
              "      <td>0.422018</td>\n",
              "      <td>5.240594</td>\n",
              "    </tr>\n",
              "    <tr>\n",
              "      <th>9</th>\n",
              "      <td>herbs</td>\n",
              "      <td>root vegetables</td>\n",
              "      <td>0.007016</td>\n",
              "      <td>0.431250</td>\n",
              "      <td>3.956477</td>\n",
              "    </tr>\n",
              "    <tr>\n",
              "      <th>3</th>\n",
              "      <td>berries</td>\n",
              "      <td>whipped/sour cream</td>\n",
              "      <td>0.009049</td>\n",
              "      <td>0.272171</td>\n",
              "      <td>3.796886</td>\n",
              "    </tr>\n",
              "    <tr>\n",
              "      <th>11</th>\n",
              "      <td>rice</td>\n",
              "      <td>root vegetables</td>\n",
              "      <td>0.003152</td>\n",
              "      <td>0.413333</td>\n",
              "      <td>3.792102</td>\n",
              "    </tr>\n",
              "    <tr>\n",
              "      <th>6</th>\n",
              "      <td>flour</td>\n",
              "      <td>margarine</td>\n",
              "      <td>0.003762</td>\n",
              "      <td>0.216374</td>\n",
              "      <td>3.694516</td>\n",
              "    </tr>\n",
              "    <tr>\n",
              "      <th>1</th>\n",
              "      <td>baking powder</td>\n",
              "      <td>whipped/sour cream</td>\n",
              "      <td>0.004575</td>\n",
              "      <td>0.258621</td>\n",
              "      <td>3.607850</td>\n",
              "    </tr>\n",
              "    <tr>\n",
              "      <th>8</th>\n",
              "      <td>flour</td>\n",
              "      <td>whipped/sour cream</td>\n",
              "      <td>0.004067</td>\n",
              "      <td>0.233918</td>\n",
              "      <td>3.263241</td>\n",
              "    </tr>\n",
              "  </tbody>\n",
              "</table>\n",
              "</div>"
            ],
            "text/plain": [
              "           Left Hand Side     Right Hand Side   Support  Confidence       Lift\n",
              "0   Instant food products      hamburger meat  0.003050    0.379747  11.421438\n",
              "7                   flour               sugar  0.004982    0.286550   8.463112\n",
              "10       processed cheese         white bread  0.004169    0.251534   5.975445\n",
              "4                  liquor        bottled beer  0.004677    0.422018   5.240594\n",
              "9                   herbs     root vegetables  0.007016    0.431250   3.956477\n",
              "3                 berries  whipped/sour cream  0.009049    0.272171   3.796886\n",
              "11                   rice     root vegetables  0.003152    0.413333   3.792102\n",
              "6                   flour           margarine  0.003762    0.216374   3.694516\n",
              "1           baking powder  whipped/sour cream  0.004575    0.258621   3.607850\n",
              "8                   flour  whipped/sour cream  0.004067    0.233918   3.263241"
            ]
          },
          "metadata": {},
          "execution_count": 12
        }
      ]
    }
  ]
}